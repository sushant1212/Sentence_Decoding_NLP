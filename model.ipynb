{
 "cells": [
  {
   "cell_type": "code",
   "execution_count": 1,
   "metadata": {},
   "outputs": [],
   "source": [
    "import pickle\n",
    "import pandas as pd\n",
    "import re\n",
    "import nltk\n",
    "from nltk.corpus import stopwords\n",
    "from nltk.stem import WordNetLemmatizer\n",
    "from sklearn.feature_extraction.text import TfidfVectorizer\n",
    "from sklearn.model_selection import train_test_split\n",
    "from sklearn.feature_selection import chi2\n",
    "import numpy as np\n",
    "import torch\n",
    "import torch.nn as nn\n",
    "import torch.nn.functional as F"
   ]
  },
  {
   "cell_type": "code",
   "execution_count": 2,
   "metadata": {},
   "outputs": [],
   "source": [
    "path_df = \"/home/sushant/Downloads/saarthi/task_data/train_data.csv\"\n",
    "with open(path_df, 'rb') as data:\n",
    "    df = pd.read_csv(data)"
   ]
  },
  {
   "cell_type": "code",
   "execution_count": 3,
   "metadata": {},
   "outputs": [
    {
     "data": {
      "text/html": [
       "<div>\n",
       "<style scoped>\n",
       "    .dataframe tbody tr th:only-of-type {\n",
       "        vertical-align: middle;\n",
       "    }\n",
       "\n",
       "    .dataframe tbody tr th {\n",
       "        vertical-align: top;\n",
       "    }\n",
       "\n",
       "    .dataframe thead th {\n",
       "        text-align: right;\n",
       "    }\n",
       "</style>\n",
       "<table border=\"1\" class=\"dataframe\">\n",
       "  <thead>\n",
       "    <tr style=\"text-align: right;\">\n",
       "      <th></th>\n",
       "      <th>path</th>\n",
       "      <th>transcription</th>\n",
       "      <th>action</th>\n",
       "      <th>object</th>\n",
       "      <th>location</th>\n",
       "    </tr>\n",
       "  </thead>\n",
       "  <tbody>\n",
       "    <tr>\n",
       "      <th>0</th>\n",
       "      <td>wavs/speakers/xRQE5VD7rRHVdyvM/7372ca00-45c4-1...</td>\n",
       "      <td>Turn on the kitchen lights</td>\n",
       "      <td>activate</td>\n",
       "      <td>lights</td>\n",
       "      <td>kitchen</td>\n",
       "    </tr>\n",
       "    <tr>\n",
       "      <th>1</th>\n",
       "      <td>wavs/speakers/R3mexpM2YAtdPbL7/dae28110-44fe-1...</td>\n",
       "      <td>Turn up the temperature</td>\n",
       "      <td>increase</td>\n",
       "      <td>heat</td>\n",
       "      <td>none</td>\n",
       "    </tr>\n",
       "    <tr>\n",
       "      <th>2</th>\n",
       "      <td>wavs/speakers/ZebMRl5Z7dhrPKRD/b55dcfd0-455d-1...</td>\n",
       "      <td>OK now switch the main language to Chinese</td>\n",
       "      <td>change language</td>\n",
       "      <td>Chinese</td>\n",
       "      <td>none</td>\n",
       "    </tr>\n",
       "    <tr>\n",
       "      <th>3</th>\n",
       "      <td>wavs/speakers/ppzZqYxGkESMdA5Az/61c54a20-4476-...</td>\n",
       "      <td>Turn down the bathroom temperature</td>\n",
       "      <td>decrease</td>\n",
       "      <td>heat</td>\n",
       "      <td>washroom</td>\n",
       "    </tr>\n",
       "    <tr>\n",
       "      <th>4</th>\n",
       "      <td>wavs/speakers/zaEBPeMY4NUbDnZy/8ef57ec0-44df-1...</td>\n",
       "      <td>Change the language</td>\n",
       "      <td>change language</td>\n",
       "      <td>none</td>\n",
       "      <td>none</td>\n",
       "    </tr>\n",
       "  </tbody>\n",
       "</table>\n",
       "</div>"
      ],
      "text/plain": [
       "                                                path  \\\n",
       "0  wavs/speakers/xRQE5VD7rRHVdyvM/7372ca00-45c4-1...   \n",
       "1  wavs/speakers/R3mexpM2YAtdPbL7/dae28110-44fe-1...   \n",
       "2  wavs/speakers/ZebMRl5Z7dhrPKRD/b55dcfd0-455d-1...   \n",
       "3  wavs/speakers/ppzZqYxGkESMdA5Az/61c54a20-4476-...   \n",
       "4  wavs/speakers/zaEBPeMY4NUbDnZy/8ef57ec0-44df-1...   \n",
       "\n",
       "                                transcription           action   object  \\\n",
       "0                  Turn on the kitchen lights         activate   lights   \n",
       "1                     Turn up the temperature         increase     heat   \n",
       "2  OK now switch the main language to Chinese  change language  Chinese   \n",
       "3          Turn down the bathroom temperature         decrease     heat   \n",
       "4                         Change the language  change language     none   \n",
       "\n",
       "   location  \n",
       "0   kitchen  \n",
       "1      none  \n",
       "2      none  \n",
       "3  washroom  \n",
       "4      none  "
      ]
     },
     "execution_count": 3,
     "metadata": {},
     "output_type": "execute_result"
    }
   ],
   "source": [
    "df.head()"
   ]
  },
  {
   "cell_type": "code",
   "execution_count": 4,
   "metadata": {},
   "outputs": [
    {
     "data": {
      "text/plain": [
       "'Turn on the kitchen lights'"
      ]
     },
     "execution_count": 4,
     "metadata": {},
     "output_type": "execute_result"
    }
   ],
   "source": [
    "df.loc[0]['transcription']"
   ]
  },
  {
   "cell_type": "code",
   "execution_count": 5,
   "metadata": {},
   "outputs": [],
   "source": [
    "# Making everything to lower case\n",
    "df['Content_Parsed_1'] = df['transcription'].str.lower()"
   ]
  },
  {
   "cell_type": "code",
   "execution_count": 6,
   "metadata": {},
   "outputs": [
    {
     "data": {
      "text/html": [
       "<div>\n",
       "<style scoped>\n",
       "    .dataframe tbody tr th:only-of-type {\n",
       "        vertical-align: middle;\n",
       "    }\n",
       "\n",
       "    .dataframe tbody tr th {\n",
       "        vertical-align: top;\n",
       "    }\n",
       "\n",
       "    .dataframe thead th {\n",
       "        text-align: right;\n",
       "    }\n",
       "</style>\n",
       "<table border=\"1\" class=\"dataframe\">\n",
       "  <thead>\n",
       "    <tr style=\"text-align: right;\">\n",
       "      <th></th>\n",
       "      <th>path</th>\n",
       "      <th>transcription</th>\n",
       "      <th>action</th>\n",
       "      <th>object</th>\n",
       "      <th>location</th>\n",
       "      <th>Content_Parsed_1</th>\n",
       "    </tr>\n",
       "  </thead>\n",
       "  <tbody>\n",
       "    <tr>\n",
       "      <th>0</th>\n",
       "      <td>wavs/speakers/xRQE5VD7rRHVdyvM/7372ca00-45c4-1...</td>\n",
       "      <td>Turn on the kitchen lights</td>\n",
       "      <td>activate</td>\n",
       "      <td>lights</td>\n",
       "      <td>kitchen</td>\n",
       "      <td>turn on the kitchen lights</td>\n",
       "    </tr>\n",
       "    <tr>\n",
       "      <th>1</th>\n",
       "      <td>wavs/speakers/R3mexpM2YAtdPbL7/dae28110-44fe-1...</td>\n",
       "      <td>Turn up the temperature</td>\n",
       "      <td>increase</td>\n",
       "      <td>heat</td>\n",
       "      <td>none</td>\n",
       "      <td>turn up the temperature</td>\n",
       "    </tr>\n",
       "    <tr>\n",
       "      <th>2</th>\n",
       "      <td>wavs/speakers/ZebMRl5Z7dhrPKRD/b55dcfd0-455d-1...</td>\n",
       "      <td>OK now switch the main language to Chinese</td>\n",
       "      <td>change language</td>\n",
       "      <td>Chinese</td>\n",
       "      <td>none</td>\n",
       "      <td>ok now switch the main language to chinese</td>\n",
       "    </tr>\n",
       "    <tr>\n",
       "      <th>3</th>\n",
       "      <td>wavs/speakers/ppzZqYxGkESMdA5Az/61c54a20-4476-...</td>\n",
       "      <td>Turn down the bathroom temperature</td>\n",
       "      <td>decrease</td>\n",
       "      <td>heat</td>\n",
       "      <td>washroom</td>\n",
       "      <td>turn down the bathroom temperature</td>\n",
       "    </tr>\n",
       "    <tr>\n",
       "      <th>4</th>\n",
       "      <td>wavs/speakers/zaEBPeMY4NUbDnZy/8ef57ec0-44df-1...</td>\n",
       "      <td>Change the language</td>\n",
       "      <td>change language</td>\n",
       "      <td>none</td>\n",
       "      <td>none</td>\n",
       "      <td>change the language</td>\n",
       "    </tr>\n",
       "  </tbody>\n",
       "</table>\n",
       "</div>"
      ],
      "text/plain": [
       "                                                path  \\\n",
       "0  wavs/speakers/xRQE5VD7rRHVdyvM/7372ca00-45c4-1...   \n",
       "1  wavs/speakers/R3mexpM2YAtdPbL7/dae28110-44fe-1...   \n",
       "2  wavs/speakers/ZebMRl5Z7dhrPKRD/b55dcfd0-455d-1...   \n",
       "3  wavs/speakers/ppzZqYxGkESMdA5Az/61c54a20-4476-...   \n",
       "4  wavs/speakers/zaEBPeMY4NUbDnZy/8ef57ec0-44df-1...   \n",
       "\n",
       "                                transcription           action   object  \\\n",
       "0                  Turn on the kitchen lights         activate   lights   \n",
       "1                     Turn up the temperature         increase     heat   \n",
       "2  OK now switch the main language to Chinese  change language  Chinese   \n",
       "3          Turn down the bathroom temperature         decrease     heat   \n",
       "4                         Change the language  change language     none   \n",
       "\n",
       "   location                            Content_Parsed_1  \n",
       "0   kitchen                  turn on the kitchen lights  \n",
       "1      none                     turn up the temperature  \n",
       "2      none  ok now switch the main language to chinese  \n",
       "3  washroom          turn down the bathroom temperature  \n",
       "4      none                         change the language  "
      ]
     },
     "execution_count": 6,
     "metadata": {},
     "output_type": "execute_result"
    }
   ],
   "source": [
    "df.head()"
   ]
  },
  {
   "cell_type": "code",
   "execution_count": 7,
   "metadata": {},
   "outputs": [
    {
     "name": "stderr",
     "output_type": "stream",
     "text": [
      "<ipython-input-7-9ea803286063>:6: FutureWarning: The default value of regex will change from True to False in a future version. In addition, single character regular expressions will *not* be treated as literal strings when regex=True.\n",
      "  df['Content_Parsed_2'] = df['Content_Parsed_2'].str.replace(punct_sign, '')\n"
     ]
    }
   ],
   "source": [
    "# removing punctuation signs\n",
    "punctuation_signs = list(\"?:!.,;\")\n",
    "df['Content_Parsed_2'] = df['Content_Parsed_1']\n",
    "\n",
    "for punct_sign in punctuation_signs:\n",
    "    df['Content_Parsed_2'] = df['Content_Parsed_2'].str.replace(punct_sign, '')"
   ]
  },
  {
   "cell_type": "code",
   "execution_count": 8,
   "metadata": {},
   "outputs": [],
   "source": [
    "# removing possessives\n",
    "df['Content_Parsed_3'] = df['Content_Parsed_2'].str.replace(\"\\'s\", \"\")\n"
   ]
  },
  {
   "cell_type": "code",
   "execution_count": 9,
   "metadata": {},
   "outputs": [
    {
     "name": "stderr",
     "output_type": "stream",
     "text": [
      "[nltk_data] Downloading package wordnet to /home/sushant/nltk_data...\n",
      "[nltk_data]   Package wordnet is already up-to-date!\n"
     ]
    },
    {
     "data": {
      "text/plain": [
       "True"
      ]
     },
     "execution_count": 9,
     "metadata": {},
     "output_type": "execute_result"
    }
   ],
   "source": [
    "nltk.download('wordnet')\n"
   ]
  },
  {
   "cell_type": "code",
   "execution_count": 10,
   "metadata": {},
   "outputs": [],
   "source": [
    "wordnet_lemmatizer = WordNetLemmatizer()"
   ]
  },
  {
   "cell_type": "code",
   "execution_count": 11,
   "metadata": {},
   "outputs": [],
   "source": [
    "# Lemmatizing the content\n",
    "nrows = len(df)\n",
    "lemmatized_text_list = []\n",
    "for row in range(0, nrows):\n",
    "    \n",
    "    # Create an empty list containing lemmatized words\n",
    "    lemmatized_list = []\n",
    "    \n",
    "    # Save the text and its words into an object\n",
    "    text = df.loc[row]['Content_Parsed_3']\n",
    "    text_words = text.split(\" \")\n",
    "\n",
    "    # Iterate through every word to lemmatize\n",
    "    for word in text_words:\n",
    "        lemmatized_list.append(wordnet_lemmatizer.lemmatize(word, pos=\"v\"))\n",
    "        \n",
    "    # Join the list\n",
    "    lemmatized_text = \" \".join(lemmatized_list)\n",
    "    \n",
    "    # Append to the list containing the texts\n",
    "    lemmatized_text_list.append(lemmatized_text)\n"
   ]
  },
  {
   "cell_type": "code",
   "execution_count": 12,
   "metadata": {},
   "outputs": [],
   "source": [
    "df['Content_Parsed_4'] = lemmatized_text_list"
   ]
  },
  {
   "cell_type": "code",
   "execution_count": 13,
   "metadata": {},
   "outputs": [
    {
     "data": {
      "text/html": [
       "<div>\n",
       "<style scoped>\n",
       "    .dataframe tbody tr th:only-of-type {\n",
       "        vertical-align: middle;\n",
       "    }\n",
       "\n",
       "    .dataframe tbody tr th {\n",
       "        vertical-align: top;\n",
       "    }\n",
       "\n",
       "    .dataframe thead th {\n",
       "        text-align: right;\n",
       "    }\n",
       "</style>\n",
       "<table border=\"1\" class=\"dataframe\">\n",
       "  <thead>\n",
       "    <tr style=\"text-align: right;\">\n",
       "      <th></th>\n",
       "      <th>path</th>\n",
       "      <th>transcription</th>\n",
       "      <th>action</th>\n",
       "      <th>object</th>\n",
       "      <th>location</th>\n",
       "      <th>Content_Parsed_1</th>\n",
       "      <th>Content_Parsed_2</th>\n",
       "      <th>Content_Parsed_3</th>\n",
       "      <th>Content_Parsed_4</th>\n",
       "    </tr>\n",
       "  </thead>\n",
       "  <tbody>\n",
       "    <tr>\n",
       "      <th>0</th>\n",
       "      <td>wavs/speakers/xRQE5VD7rRHVdyvM/7372ca00-45c4-1...</td>\n",
       "      <td>Turn on the kitchen lights</td>\n",
       "      <td>activate</td>\n",
       "      <td>lights</td>\n",
       "      <td>kitchen</td>\n",
       "      <td>turn on the kitchen lights</td>\n",
       "      <td>turn on the kitchen lights</td>\n",
       "      <td>turn on the kitchen lights</td>\n",
       "      <td>turn on the kitchen light</td>\n",
       "    </tr>\n",
       "    <tr>\n",
       "      <th>1</th>\n",
       "      <td>wavs/speakers/R3mexpM2YAtdPbL7/dae28110-44fe-1...</td>\n",
       "      <td>Turn up the temperature</td>\n",
       "      <td>increase</td>\n",
       "      <td>heat</td>\n",
       "      <td>none</td>\n",
       "      <td>turn up the temperature</td>\n",
       "      <td>turn up the temperature</td>\n",
       "      <td>turn up the temperature</td>\n",
       "      <td>turn up the temperature</td>\n",
       "    </tr>\n",
       "    <tr>\n",
       "      <th>2</th>\n",
       "      <td>wavs/speakers/ZebMRl5Z7dhrPKRD/b55dcfd0-455d-1...</td>\n",
       "      <td>OK now switch the main language to Chinese</td>\n",
       "      <td>change language</td>\n",
       "      <td>Chinese</td>\n",
       "      <td>none</td>\n",
       "      <td>ok now switch the main language to chinese</td>\n",
       "      <td>ok now switch the main language to chinese</td>\n",
       "      <td>ok now switch the main language to chinese</td>\n",
       "      <td>ok now switch the main language to chinese</td>\n",
       "    </tr>\n",
       "    <tr>\n",
       "      <th>3</th>\n",
       "      <td>wavs/speakers/ppzZqYxGkESMdA5Az/61c54a20-4476-...</td>\n",
       "      <td>Turn down the bathroom temperature</td>\n",
       "      <td>decrease</td>\n",
       "      <td>heat</td>\n",
       "      <td>washroom</td>\n",
       "      <td>turn down the bathroom temperature</td>\n",
       "      <td>turn down the bathroom temperature</td>\n",
       "      <td>turn down the bathroom temperature</td>\n",
       "      <td>turn down the bathroom temperature</td>\n",
       "    </tr>\n",
       "    <tr>\n",
       "      <th>4</th>\n",
       "      <td>wavs/speakers/zaEBPeMY4NUbDnZy/8ef57ec0-44df-1...</td>\n",
       "      <td>Change the language</td>\n",
       "      <td>change language</td>\n",
       "      <td>none</td>\n",
       "      <td>none</td>\n",
       "      <td>change the language</td>\n",
       "      <td>change the language</td>\n",
       "      <td>change the language</td>\n",
       "      <td>change the language</td>\n",
       "    </tr>\n",
       "    <tr>\n",
       "      <th>5</th>\n",
       "      <td>wavs/speakers/W4XOzzNEbrtZz4dW/8a1fedc0-44d2-1...</td>\n",
       "      <td>Turn sound down</td>\n",
       "      <td>decrease</td>\n",
       "      <td>volume</td>\n",
       "      <td>none</td>\n",
       "      <td>turn sound down</td>\n",
       "      <td>turn sound down</td>\n",
       "      <td>turn sound down</td>\n",
       "      <td>turn sound down</td>\n",
       "    </tr>\n",
       "    <tr>\n",
       "      <th>6</th>\n",
       "      <td>wavs/speakers/8e5qRjN7dGuovkRY/92366b20-459e-1...</td>\n",
       "      <td>Decrease the heating in the washroom</td>\n",
       "      <td>decrease</td>\n",
       "      <td>heat</td>\n",
       "      <td>washroom</td>\n",
       "      <td>decrease the heating in the washroom</td>\n",
       "      <td>decrease the heating in the washroom</td>\n",
       "      <td>decrease the heating in the washroom</td>\n",
       "      <td>decrease the heat in the washroom</td>\n",
       "    </tr>\n",
       "    <tr>\n",
       "      <th>7</th>\n",
       "      <td>wavs/speakers/W4XOzzNEbrtZz4dW/d40180c0-44d2-1...</td>\n",
       "      <td>It’s too loud, turn it down</td>\n",
       "      <td>decrease</td>\n",
       "      <td>volume</td>\n",
       "      <td>none</td>\n",
       "      <td>it’s too loud, turn it down</td>\n",
       "      <td>it’s too loud turn it down</td>\n",
       "      <td>it’s too loud turn it down</td>\n",
       "      <td>it’s too loud turn it down</td>\n",
       "    </tr>\n",
       "    <tr>\n",
       "      <th>8</th>\n",
       "      <td>wavs/speakers/g2dnA9Wpvzi2WAmZ/694d7090-454a-1...</td>\n",
       "      <td>Change language</td>\n",
       "      <td>change language</td>\n",
       "      <td>none</td>\n",
       "      <td>none</td>\n",
       "      <td>change language</td>\n",
       "      <td>change language</td>\n",
       "      <td>change language</td>\n",
       "      <td>change language</td>\n",
       "    </tr>\n",
       "    <tr>\n",
       "      <th>9</th>\n",
       "      <td>wavs/speakers/5BEzPgPKe8taG9OB/b9b56e80-457b-1...</td>\n",
       "      <td>Turn the lights on in the kitchen</td>\n",
       "      <td>activate</td>\n",
       "      <td>lights</td>\n",
       "      <td>kitchen</td>\n",
       "      <td>turn the lights on in the kitchen</td>\n",
       "      <td>turn the lights on in the kitchen</td>\n",
       "      <td>turn the lights on in the kitchen</td>\n",
       "      <td>turn the light on in the kitchen</td>\n",
       "    </tr>\n",
       "    <tr>\n",
       "      <th>10</th>\n",
       "      <td>wavs/speakers/xRQE5VD7rRHVdyvM/6fe6f940-45c6-1...</td>\n",
       "      <td>Decrease the heating in the bedroom</td>\n",
       "      <td>decrease</td>\n",
       "      <td>heat</td>\n",
       "      <td>bedroom</td>\n",
       "      <td>decrease the heating in the bedroom</td>\n",
       "      <td>decrease the heating in the bedroom</td>\n",
       "      <td>decrease the heating in the bedroom</td>\n",
       "      <td>decrease the heat in the bedroom</td>\n",
       "    </tr>\n",
       "    <tr>\n",
       "      <th>11</th>\n",
       "      <td>wavs/speakers/BvyakyrDmQfWEABb/abd3b960-45fe-1...</td>\n",
       "      <td>Turn up the heat in the washroom</td>\n",
       "      <td>increase</td>\n",
       "      <td>heat</td>\n",
       "      <td>washroom</td>\n",
       "      <td>turn up the heat in the washroom</td>\n",
       "      <td>turn up the heat in the washroom</td>\n",
       "      <td>turn up the heat in the washroom</td>\n",
       "      <td>turn up the heat in the washroom</td>\n",
       "    </tr>\n",
       "    <tr>\n",
       "      <th>12</th>\n",
       "      <td>wavs/speakers/anvKyBjB5OiP5dYZ/90f8f3d0-4577-1...</td>\n",
       "      <td>Decrease the heating in the bedroom</td>\n",
       "      <td>decrease</td>\n",
       "      <td>heat</td>\n",
       "      <td>bedroom</td>\n",
       "      <td>decrease the heating in the bedroom</td>\n",
       "      <td>decrease the heating in the bedroom</td>\n",
       "      <td>decrease the heating in the bedroom</td>\n",
       "      <td>decrease the heat in the bedroom</td>\n",
       "    </tr>\n",
       "    <tr>\n",
       "      <th>13</th>\n",
       "      <td>wavs/speakers/gNYvkbx3gof2Y3V9/59747f30-44e4-1...</td>\n",
       "      <td>Turn the bedroom heat up</td>\n",
       "      <td>increase</td>\n",
       "      <td>heat</td>\n",
       "      <td>bedroom</td>\n",
       "      <td>turn the bedroom heat up</td>\n",
       "      <td>turn the bedroom heat up</td>\n",
       "      <td>turn the bedroom heat up</td>\n",
       "      <td>turn the bedroom heat up</td>\n",
       "    </tr>\n",
       "    <tr>\n",
       "      <th>14</th>\n",
       "      <td>wavs/speakers/xRQE5VD7rRHVdyvM/c0d09600-45c5-1...</td>\n",
       "      <td>Increase the temperature</td>\n",
       "      <td>increase</td>\n",
       "      <td>heat</td>\n",
       "      <td>none</td>\n",
       "      <td>increase the temperature</td>\n",
       "      <td>increase the temperature</td>\n",
       "      <td>increase the temperature</td>\n",
       "      <td>increase the temperature</td>\n",
       "    </tr>\n",
       "  </tbody>\n",
       "</table>\n",
       "</div>"
      ],
      "text/plain": [
       "                                                 path  \\\n",
       "0   wavs/speakers/xRQE5VD7rRHVdyvM/7372ca00-45c4-1...   \n",
       "1   wavs/speakers/R3mexpM2YAtdPbL7/dae28110-44fe-1...   \n",
       "2   wavs/speakers/ZebMRl5Z7dhrPKRD/b55dcfd0-455d-1...   \n",
       "3   wavs/speakers/ppzZqYxGkESMdA5Az/61c54a20-4476-...   \n",
       "4   wavs/speakers/zaEBPeMY4NUbDnZy/8ef57ec0-44df-1...   \n",
       "5   wavs/speakers/W4XOzzNEbrtZz4dW/8a1fedc0-44d2-1...   \n",
       "6   wavs/speakers/8e5qRjN7dGuovkRY/92366b20-459e-1...   \n",
       "7   wavs/speakers/W4XOzzNEbrtZz4dW/d40180c0-44d2-1...   \n",
       "8   wavs/speakers/g2dnA9Wpvzi2WAmZ/694d7090-454a-1...   \n",
       "9   wavs/speakers/5BEzPgPKe8taG9OB/b9b56e80-457b-1...   \n",
       "10  wavs/speakers/xRQE5VD7rRHVdyvM/6fe6f940-45c6-1...   \n",
       "11  wavs/speakers/BvyakyrDmQfWEABb/abd3b960-45fe-1...   \n",
       "12  wavs/speakers/anvKyBjB5OiP5dYZ/90f8f3d0-4577-1...   \n",
       "13  wavs/speakers/gNYvkbx3gof2Y3V9/59747f30-44e4-1...   \n",
       "14  wavs/speakers/xRQE5VD7rRHVdyvM/c0d09600-45c5-1...   \n",
       "\n",
       "                                 transcription           action   object  \\\n",
       "0                   Turn on the kitchen lights         activate   lights   \n",
       "1                      Turn up the temperature         increase     heat   \n",
       "2   OK now switch the main language to Chinese  change language  Chinese   \n",
       "3           Turn down the bathroom temperature         decrease     heat   \n",
       "4                          Change the language  change language     none   \n",
       "5                              Turn sound down         decrease   volume   \n",
       "6         Decrease the heating in the washroom         decrease     heat   \n",
       "7                  It’s too loud, turn it down         decrease   volume   \n",
       "8                              Change language  change language     none   \n",
       "9            Turn the lights on in the kitchen         activate   lights   \n",
       "10         Decrease the heating in the bedroom         decrease     heat   \n",
       "11            Turn up the heat in the washroom         increase     heat   \n",
       "12         Decrease the heating in the bedroom         decrease     heat   \n",
       "13                    Turn the bedroom heat up         increase     heat   \n",
       "14                    Increase the temperature         increase     heat   \n",
       "\n",
       "    location                            Content_Parsed_1  \\\n",
       "0    kitchen                  turn on the kitchen lights   \n",
       "1       none                     turn up the temperature   \n",
       "2       none  ok now switch the main language to chinese   \n",
       "3   washroom          turn down the bathroom temperature   \n",
       "4       none                         change the language   \n",
       "5       none                             turn sound down   \n",
       "6   washroom        decrease the heating in the washroom   \n",
       "7       none                 it’s too loud, turn it down   \n",
       "8       none                             change language   \n",
       "9    kitchen           turn the lights on in the kitchen   \n",
       "10   bedroom         decrease the heating in the bedroom   \n",
       "11  washroom            turn up the heat in the washroom   \n",
       "12   bedroom         decrease the heating in the bedroom   \n",
       "13   bedroom                    turn the bedroom heat up   \n",
       "14      none                    increase the temperature   \n",
       "\n",
       "                              Content_Parsed_2  \\\n",
       "0                   turn on the kitchen lights   \n",
       "1                      turn up the temperature   \n",
       "2   ok now switch the main language to chinese   \n",
       "3           turn down the bathroom temperature   \n",
       "4                          change the language   \n",
       "5                              turn sound down   \n",
       "6         decrease the heating in the washroom   \n",
       "7                   it’s too loud turn it down   \n",
       "8                              change language   \n",
       "9            turn the lights on in the kitchen   \n",
       "10         decrease the heating in the bedroom   \n",
       "11            turn up the heat in the washroom   \n",
       "12         decrease the heating in the bedroom   \n",
       "13                    turn the bedroom heat up   \n",
       "14                    increase the temperature   \n",
       "\n",
       "                              Content_Parsed_3  \\\n",
       "0                   turn on the kitchen lights   \n",
       "1                      turn up the temperature   \n",
       "2   ok now switch the main language to chinese   \n",
       "3           turn down the bathroom temperature   \n",
       "4                          change the language   \n",
       "5                              turn sound down   \n",
       "6         decrease the heating in the washroom   \n",
       "7                   it’s too loud turn it down   \n",
       "8                              change language   \n",
       "9            turn the lights on in the kitchen   \n",
       "10         decrease the heating in the bedroom   \n",
       "11            turn up the heat in the washroom   \n",
       "12         decrease the heating in the bedroom   \n",
       "13                    turn the bedroom heat up   \n",
       "14                    increase the temperature   \n",
       "\n",
       "                              Content_Parsed_4  \n",
       "0                    turn on the kitchen light  \n",
       "1                      turn up the temperature  \n",
       "2   ok now switch the main language to chinese  \n",
       "3           turn down the bathroom temperature  \n",
       "4                          change the language  \n",
       "5                              turn sound down  \n",
       "6            decrease the heat in the washroom  \n",
       "7                   it’s too loud turn it down  \n",
       "8                              change language  \n",
       "9             turn the light on in the kitchen  \n",
       "10            decrease the heat in the bedroom  \n",
       "11            turn up the heat in the washroom  \n",
       "12            decrease the heat in the bedroom  \n",
       "13                    turn the bedroom heat up  \n",
       "14                    increase the temperature  "
      ]
     },
     "execution_count": 13,
     "metadata": {},
     "output_type": "execute_result"
    }
   ],
   "source": [
    "df.head(15)"
   ]
  },
  {
   "cell_type": "code",
   "execution_count": 14,
   "metadata": {},
   "outputs": [],
   "source": [
    "df.to_csv('./modified_train.csv')"
   ]
  },
  {
   "cell_type": "code",
   "execution_count": 15,
   "metadata": {},
   "outputs": [],
   "source": [
    "glove_path =\"/home/sushant/Downloads/saarthi\""
   ]
  },
  {
   "cell_type": "code",
   "execution_count": 16,
   "metadata": {},
   "outputs": [],
   "source": [
    "import bcolz"
   ]
  },
  {
   "cell_type": "code",
   "execution_count": 17,
   "metadata": {},
   "outputs": [],
   "source": [
    "vectors = bcolz.open(f'{glove_path}/6B.50.dat')[:]\n",
    "words = pickle.load(open(f'{glove_path}/6B.50_words.pkl', 'rb'))\n",
    "word2idx = pickle.load(open(f'{glove_path}/6B.50_idx.pkl', 'rb'))\n",
    "glove = {w: vectors[word2idx[w]] for w in words}"
   ]
  },
  {
   "cell_type": "code",
   "execution_count": 18,
   "metadata": {},
   "outputs": [],
   "source": [
    "target_vocab = {}\n",
    "nrows = len(df)\n",
    "for row in range(0, nrows):\n",
    "    text = df.loc[row]['Content_Parsed_4']\n",
    "    text_words = text.split(\" \")\n",
    "    for word in text_words:\n",
    "        target_vocab[str(word)] = 1"
   ]
  },
  {
   "cell_type": "code",
   "execution_count": 19,
   "metadata": {},
   "outputs": [],
   "source": [
    "nrows = len(df)\n",
    "for row in range(0, nrows):\n",
    "    text = df.loc[row]['action']\n",
    "    text_words = text.split(\" \")\n",
    "    for word in text_words:\n",
    "        target_vocab[str(word)] = 1"
   ]
  },
  {
   "cell_type": "code",
   "execution_count": 20,
   "metadata": {},
   "outputs": [],
   "source": [
    "nrows = len(df)\n",
    "for row in range(0, nrows):\n",
    "    text = df.loc[row]['object']\n",
    "    text_words = text.split(\" \")\n",
    "    for word in text_words:\n",
    "        target_vocab[str(word)] = 1"
   ]
  },
  {
   "cell_type": "code",
   "execution_count": 21,
   "metadata": {},
   "outputs": [],
   "source": [
    "nrows = len(df)\n",
    "for row in range(0, nrows):\n",
    "    text = df.loc[row]['location']\n",
    "    text_words = text.split(\" \")\n",
    "    for word in text_words:\n",
    "        target_vocab[str(word)] = 1"
   ]
  },
  {
   "cell_type": "code",
   "execution_count": 22,
   "metadata": {},
   "outputs": [
    {
     "name": "stdout",
     "output_type": "stream",
     "text": [
      "dict_keys(['turn', 'on', 'the', 'kitchen', 'light', 'up', 'temperature', 'ok', 'now', 'switch', 'main', 'language', 'to', 'chinese', 'down', 'bathroom', 'change', 'sound', 'decrease', 'heat', 'in', 'washroom', 'it’s', 'too', 'loud', 'it', 'bedroom', 'increase', 'set', 'i', 'need', 'practice', 'my', 'english', 'hear', 'this', 'volume', 'lamp', 'off', 'bring', 'me', 'shoe', 'get', 'newspaper', \"can't\", 'that', 'fetch', 'sock', 'system', 'make', 'music', 'louder', 'phone', 'go', 'lower', 'could', 'you', 'korean', 'far', 'max', 'some', 'juice', 'less', 'please', 'device', 'put', 'video', 'be', 'low', 'play', 'audio', 'quieter', 'languages', 'quiet', 'resume', 'use', 'a', 'different', 'mute', 'hotter', 'pause', 'level', 'german', 'start', 'settings', 'stop', 'softer', 'that’s', 'more', 'reduce', 'allow', \"couldn't\", 'anything', 'cooler', 'open', 'activate', 'deactivate', 'lights', 'Chinese', 'none', 'English', 'shoes', 'socks', 'Korean', 'German'])\n"
     ]
    }
   ],
   "source": [
    "print(target_vocab.keys())"
   ]
  },
  {
   "cell_type": "code",
   "execution_count": 23,
   "metadata": {},
   "outputs": [],
   "source": [
    "matrix_len = len(target_vocab.keys())\n",
    "weights_matrix = np.zeros((matrix_len, 50))\n",
    "words_found = 0\n",
    "\n",
    "for i, word in enumerate(target_vocab.keys()):\n",
    "    try: \n",
    "        weights_matrix[i] = glove[word]\n",
    "        words_found += 1\n",
    "    except KeyError:\n",
    "        weights_matrix[i] = np.random.normal(scale=0.6, size=(50, ))"
   ]
  },
  {
   "cell_type": "code",
   "execution_count": 24,
   "metadata": {},
   "outputs": [],
   "source": [
    "def create_emb_layer(weights_matrix, non_trainable=False):\n",
    "    num_embeddings, embedding_dim = weights_matrix.size()\n",
    "    emb_layer = nn.Embedding(num_embeddings, embedding_dim)\n",
    "    emb_layer.load_state_dict({'weight': weights_matrix})\n",
    "    if non_trainable:\n",
    "        emb_layer.weight.requires_grad = False\n",
    "\n",
    "    return emb_layer, num_embeddings, embedding_dim"
   ]
  },
  {
   "cell_type": "code",
   "execution_count": 25,
   "metadata": {},
   "outputs": [],
   "source": [
    "class LSTMTagger(nn.Module):\n",
    "\n",
    "    def __init__(self, embedding_dim, hidden_dim):\n",
    "        super(LSTMTagger, self).__init__()\n",
    "        self.hidden_dim = hidden_dim\n",
    "        # The LSTM takes word embeddings as inputs, and outputs hidden states\n",
    "        # with dimensionality hidden_dim.\n",
    "        self.lstm = nn.LSTM(embedding_dim, hidden_dim)\n",
    "        self.lstm_output = nn.LSTM(hidden_dim, hidden_dim)\n",
    "\n",
    "\n",
    "    def forward(self, sentence):\n",
    "        lstm_out, _ = self.lstm(sentence)\n",
    "        lstm_out = lstm_out[-1, :, :]\n",
    "        out = []\n",
    "        for i in range(3):\n",
    "            o = self.lstm_output(lstm_out)\n",
    "            out.append(o)\n",
    "            lstm_out = o\n",
    "        return torch.tensor(out).unsqueeze(0)\n",
    "        \n",
    "        "
   ]
  },
  {
   "cell_type": "code",
   "execution_count": 26,
   "metadata": {},
   "outputs": [],
   "source": [
    "def sentence_to_tensor(sentence):\n",
    "    l = sentence.split(\" \")\n",
    "    t = []\n",
    "    for word in l:\n",
    "        t.append(glove[word])\n",
    "    return torch.tensor(t).unsqueeze(0).double()"
   ]
  },
  {
   "cell_type": "code",
   "execution_count": 27,
   "metadata": {},
   "outputs": [],
   "source": [
    "sentence = df.loc[0]['Content_Parsed_4']"
   ]
  },
  {
   "cell_type": "code",
   "execution_count": 28,
   "metadata": {},
   "outputs": [
    {
     "name": "stdout",
     "output_type": "stream",
     "text": [
      "torch.Size([1, 5, 50])\n"
     ]
    }
   ],
   "source": [
    "t = sentence_to_tensor(sentence)\n",
    "print(t.shape)"
   ]
  },
  {
   "cell_type": "code",
   "execution_count": 29,
   "metadata": {},
   "outputs": [
    {
     "ename": "RuntimeError",
     "evalue": "expected scalar type Double but found Float",
     "output_type": "error",
     "traceback": [
      "\u001b[0;31m---------------------------------------------------------------------------\u001b[0m",
      "\u001b[0;31mRuntimeError\u001b[0m                              Traceback (most recent call last)",
      "\u001b[0;32m<ipython-input-29-a89fd5aa9d36>\u001b[0m in \u001b[0;36m<module>\u001b[0;34m\u001b[0m\n\u001b[1;32m      1\u001b[0m \u001b[0mmodel\u001b[0m \u001b[0;34m=\u001b[0m \u001b[0mLSTMTagger\u001b[0m\u001b[0;34m(\u001b[0m\u001b[0;36m50\u001b[0m\u001b[0;34m,\u001b[0m \u001b[0;36m20\u001b[0m\u001b[0;34m)\u001b[0m\u001b[0;34m\u001b[0m\u001b[0;34m\u001b[0m\u001b[0m\n\u001b[0;32m----> 2\u001b[0;31m \u001b[0mmodel\u001b[0m\u001b[0;34m(\u001b[0m\u001b[0mt\u001b[0m\u001b[0;34m)\u001b[0m\u001b[0;34m\u001b[0m\u001b[0;34m\u001b[0m\u001b[0m\n\u001b[0m",
      "\u001b[0;32m~/.local/lib/python3.8/site-packages/torch/nn/modules/module.py\u001b[0m in \u001b[0;36m_call_impl\u001b[0;34m(self, *input, **kwargs)\u001b[0m\n\u001b[1;32m    887\u001b[0m             \u001b[0mresult\u001b[0m \u001b[0;34m=\u001b[0m \u001b[0mself\u001b[0m\u001b[0;34m.\u001b[0m\u001b[0m_slow_forward\u001b[0m\u001b[0;34m(\u001b[0m\u001b[0;34m*\u001b[0m\u001b[0minput\u001b[0m\u001b[0;34m,\u001b[0m \u001b[0;34m**\u001b[0m\u001b[0mkwargs\u001b[0m\u001b[0;34m)\u001b[0m\u001b[0;34m\u001b[0m\u001b[0;34m\u001b[0m\u001b[0m\n\u001b[1;32m    888\u001b[0m         \u001b[0;32melse\u001b[0m\u001b[0;34m:\u001b[0m\u001b[0;34m\u001b[0m\u001b[0;34m\u001b[0m\u001b[0m\n\u001b[0;32m--> 889\u001b[0;31m             \u001b[0mresult\u001b[0m \u001b[0;34m=\u001b[0m \u001b[0mself\u001b[0m\u001b[0;34m.\u001b[0m\u001b[0mforward\u001b[0m\u001b[0;34m(\u001b[0m\u001b[0;34m*\u001b[0m\u001b[0minput\u001b[0m\u001b[0;34m,\u001b[0m \u001b[0;34m**\u001b[0m\u001b[0mkwargs\u001b[0m\u001b[0;34m)\u001b[0m\u001b[0;34m\u001b[0m\u001b[0;34m\u001b[0m\u001b[0m\n\u001b[0m\u001b[1;32m    890\u001b[0m         for hook in itertools.chain(\n\u001b[1;32m    891\u001b[0m                 \u001b[0m_global_forward_hooks\u001b[0m\u001b[0;34m.\u001b[0m\u001b[0mvalues\u001b[0m\u001b[0;34m(\u001b[0m\u001b[0;34m)\u001b[0m\u001b[0;34m,\u001b[0m\u001b[0;34m\u001b[0m\u001b[0;34m\u001b[0m\u001b[0m\n",
      "\u001b[0;32m<ipython-input-25-bc4171246fc0>\u001b[0m in \u001b[0;36mforward\u001b[0;34m(self, sentence)\u001b[0m\n\u001b[1;32m     11\u001b[0m \u001b[0;34m\u001b[0m\u001b[0m\n\u001b[1;32m     12\u001b[0m     \u001b[0;32mdef\u001b[0m \u001b[0mforward\u001b[0m\u001b[0;34m(\u001b[0m\u001b[0mself\u001b[0m\u001b[0;34m,\u001b[0m \u001b[0msentence\u001b[0m\u001b[0;34m)\u001b[0m\u001b[0;34m:\u001b[0m\u001b[0;34m\u001b[0m\u001b[0;34m\u001b[0m\u001b[0m\n\u001b[0;32m---> 13\u001b[0;31m         \u001b[0mlstm_out\u001b[0m\u001b[0;34m,\u001b[0m \u001b[0m_\u001b[0m \u001b[0;34m=\u001b[0m \u001b[0mself\u001b[0m\u001b[0;34m.\u001b[0m\u001b[0mlstm\u001b[0m\u001b[0;34m(\u001b[0m\u001b[0msentence\u001b[0m\u001b[0;34m)\u001b[0m\u001b[0;34m\u001b[0m\u001b[0;34m\u001b[0m\u001b[0m\n\u001b[0m\u001b[1;32m     14\u001b[0m         \u001b[0mlstm_out\u001b[0m \u001b[0;34m=\u001b[0m \u001b[0mlstm_out\u001b[0m\u001b[0;34m[\u001b[0m\u001b[0;34m-\u001b[0m\u001b[0;36m1\u001b[0m\u001b[0;34m,\u001b[0m \u001b[0;34m:\u001b[0m\u001b[0;34m,\u001b[0m \u001b[0;34m:\u001b[0m\u001b[0;34m]\u001b[0m\u001b[0;34m\u001b[0m\u001b[0;34m\u001b[0m\u001b[0m\n\u001b[1;32m     15\u001b[0m         \u001b[0mout\u001b[0m \u001b[0;34m=\u001b[0m \u001b[0;34m[\u001b[0m\u001b[0;34m]\u001b[0m\u001b[0;34m\u001b[0m\u001b[0;34m\u001b[0m\u001b[0m\n",
      "\u001b[0;32m~/.local/lib/python3.8/site-packages/torch/nn/modules/module.py\u001b[0m in \u001b[0;36m_call_impl\u001b[0;34m(self, *input, **kwargs)\u001b[0m\n\u001b[1;32m    887\u001b[0m             \u001b[0mresult\u001b[0m \u001b[0;34m=\u001b[0m \u001b[0mself\u001b[0m\u001b[0;34m.\u001b[0m\u001b[0m_slow_forward\u001b[0m\u001b[0;34m(\u001b[0m\u001b[0;34m*\u001b[0m\u001b[0minput\u001b[0m\u001b[0;34m,\u001b[0m \u001b[0;34m**\u001b[0m\u001b[0mkwargs\u001b[0m\u001b[0;34m)\u001b[0m\u001b[0;34m\u001b[0m\u001b[0;34m\u001b[0m\u001b[0m\n\u001b[1;32m    888\u001b[0m         \u001b[0;32melse\u001b[0m\u001b[0;34m:\u001b[0m\u001b[0;34m\u001b[0m\u001b[0;34m\u001b[0m\u001b[0m\n\u001b[0;32m--> 889\u001b[0;31m             \u001b[0mresult\u001b[0m \u001b[0;34m=\u001b[0m \u001b[0mself\u001b[0m\u001b[0;34m.\u001b[0m\u001b[0mforward\u001b[0m\u001b[0;34m(\u001b[0m\u001b[0;34m*\u001b[0m\u001b[0minput\u001b[0m\u001b[0;34m,\u001b[0m \u001b[0;34m**\u001b[0m\u001b[0mkwargs\u001b[0m\u001b[0;34m)\u001b[0m\u001b[0;34m\u001b[0m\u001b[0;34m\u001b[0m\u001b[0m\n\u001b[0m\u001b[1;32m    890\u001b[0m         for hook in itertools.chain(\n\u001b[1;32m    891\u001b[0m                 \u001b[0m_global_forward_hooks\u001b[0m\u001b[0;34m.\u001b[0m\u001b[0mvalues\u001b[0m\u001b[0;34m(\u001b[0m\u001b[0;34m)\u001b[0m\u001b[0;34m,\u001b[0m\u001b[0;34m\u001b[0m\u001b[0;34m\u001b[0m\u001b[0m\n",
      "\u001b[0;32m~/.local/lib/python3.8/site-packages/torch/nn/modules/rnn.py\u001b[0m in \u001b[0;36mforward\u001b[0;34m(self, input, hx)\u001b[0m\n\u001b[1;32m    659\u001b[0m         \u001b[0mself\u001b[0m\u001b[0;34m.\u001b[0m\u001b[0mcheck_forward_args\u001b[0m\u001b[0;34m(\u001b[0m\u001b[0minput\u001b[0m\u001b[0;34m,\u001b[0m \u001b[0mhx\u001b[0m\u001b[0;34m,\u001b[0m \u001b[0mbatch_sizes\u001b[0m\u001b[0;34m)\u001b[0m\u001b[0;34m\u001b[0m\u001b[0;34m\u001b[0m\u001b[0m\n\u001b[1;32m    660\u001b[0m         \u001b[0;32mif\u001b[0m \u001b[0mbatch_sizes\u001b[0m \u001b[0;32mis\u001b[0m \u001b[0;32mNone\u001b[0m\u001b[0;34m:\u001b[0m\u001b[0;34m\u001b[0m\u001b[0;34m\u001b[0m\u001b[0m\n\u001b[0;32m--> 661\u001b[0;31m             result = _VF.lstm(input, hx, self._flat_weights, self.bias, self.num_layers,\n\u001b[0m\u001b[1;32m    662\u001b[0m                               self.dropout, self.training, self.bidirectional, self.batch_first)\n\u001b[1;32m    663\u001b[0m         \u001b[0;32melse\u001b[0m\u001b[0;34m:\u001b[0m\u001b[0;34m\u001b[0m\u001b[0;34m\u001b[0m\u001b[0m\n",
      "\u001b[0;31mRuntimeError\u001b[0m: expected scalar type Double but found Float"
     ]
    }
   ],
   "source": [
    "model = LSTMTagger(50, 20)\n",
    "model(t)"
   ]
  }
 ],
 "metadata": {
  "interpreter": {
   "hash": "31f2aee4e71d21fbe5cf8b01ff0e069b9275f58929596ceb00d14d90e3e16cd6"
  },
  "kernelspec": {
   "display_name": "Python 3",
   "language": "python",
   "name": "python3"
  },
  "language_info": {
   "codemirror_mode": {
    "name": "ipython",
    "version": 3
   },
   "file_extension": ".py",
   "mimetype": "text/x-python",
   "name": "python",
   "nbconvert_exporter": "python",
   "pygments_lexer": "ipython3",
   "version": "3.8.10"
  }
 },
 "nbformat": 4,
 "nbformat_minor": 2
}
